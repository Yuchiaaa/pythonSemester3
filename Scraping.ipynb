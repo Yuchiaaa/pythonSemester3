{
 "cells": [
  {
   "cell_type": "markdown",
   "metadata": {},
   "source": [
    "# Webscraping with selenium"
   ]
  },
  {
   "cell_type": "markdown",
   "metadata": {},
   "source": [
    "This script will show all Ajax merchs and their prices on Voetbalshop.nl and their prices"
   ]
  },
  {
   "cell_type": "code",
   "execution_count": null,
   "metadata": {},
   "outputs": [],
   "source": [
    "from selenium import webdriver\n",
    "from selenium.webdriver.chrome.service import Service\n",
    "from webdriver_manager.chrome import ChromeDriverManager\n",
    "import time\n",
    "from selenium.webdriver.common.by import By\n",
    "from selenium.webdriver.common.keys import Keys\n",
    "\n",
    "# Input URL\n",
    "url = \"https://www.voetbalshop.nl\"\n",
    "\n",
    "# Prepare webdriver for chrome\n",
    "driver = webdriver.Chrome(service=Service(ChromeDriverManager().install()))\n",
    "driver.get(url)"
   ]
  },
  {
   "cell_type": "code",
   "execution_count": null,
   "metadata": {},
   "outputs": [],
   "source": [
    "# Click 'cookie' button\n",
    "button = driver.find_element(By.ID,'CybotCookiebotDialogBodyLevelButtonLevelOptinAllowAll')\n",
    "button.click()"
   ]
  },
  {
   "cell_type": "code",
   "execution_count": null,
   "metadata": {},
   "outputs": [],
   "source": [
    "# Find the search bar within the web\n",
    "search_bar = driver.find_element(\"name\", \"q\")\n",
    "\n",
    "# Insert the key word\n",
    "search_bar.send_keys(\"Ajax\")\n",
    "search_bar.send_keys(Keys.RETURN)\n",
    "\n",
    "# Waiting for reaction\n",
    "time.sleep(2) "
   ]
  },
  {
   "cell_type": "code",
   "execution_count": null,
   "metadata": {},
   "outputs": [
    {
     "name": "stdout",
     "output_type": "stream",
     "text": [
      "No.1 adidas Ajax Trainingspak 1/4-Zip 2024-2025 Kids Geel Blauw ------ 110,98\n",
      "No.2 adidas Ajax Uittenue 2024-2025 Kids ------ 137,97\n",
      "No.3 adidas Ajax Trainingspak 1/4-Zip 2024-2025 Lichtblauw Blauw Geel ------ 104,98\n",
      "No.4 adidas Ajax Uitsokken 2024-2025 ------ 22,99\n",
      "No.5 adidas Ajax Trainingspak 1/4-Zip 2024-2025 Geel Blauw ------ 106,98\n",
      "No.6 adidas Ajax Uitset 2024-2025 Kids ------ 114,98\n",
      "No.7 adidas Ajax 3e Shirt 2024-2025 ------ 99,99\n",
      "No.8 adidas Ajax Thuisshirt 2024-2025 ------ 94,99\n",
      "No.9 adidas Ajax Originals Hoodie 2024-2025 Bordeauxrood Wit Zwart ------ 99,99\n",
      "No.10 adidas Ajax Uitshirt 2024-2025 ------ 99,99\n",
      "No.11 adidas Ajax 3e Set 2024-2025 ------ 144,98\n",
      "No.12 adidas Ajax 3e Shirt 2024-2025 Kids ------ 74,99\n",
      "No.13 adidas Ajax Presentatie Trainingspak Full-Zip 2024-2025 Geel Blauw ------ 149,98\n",
      "No.14 adidas Ajax Minikit Uit 2024-2025 Kleuters/Peuters ------ 69,99\n",
      "No.15 adidas Ajax 3e Tenue 2024-2025 Kids ------ 137,97\n",
      "No.16 adidas Ajax Thuisshirt 2024-2025 Kids ------ 74,99\n",
      "No.17 adidas Ajax Uitshirt 2024-2025 Kids ------ 74,99\n",
      "No.18 adidas Ajax Trainingsset 2024-2025 Kids Geel Blauw ------ 81,98\n",
      "No.19 adidas Ajax Trainingsbroek 2024-2025 Kids Blauw Geel ------ 45,99\n",
      "No.20 adidas Ajax Pre-Match Trainingsshirt 2024-2025 Zwart Rood Wit ------ 69,99\n",
      "No.21 adidas Ajax Uitset 2024-2025 ------ 134,98\n",
      "No.22 adidas Ajax 3e Sokken 2024-2025 ------ 22,99\n",
      "No.23 adidas Ajax 3e Set 2024-2025 Kids ------ 114,98\n",
      "No.24 adidas Ajax Trainingsbroek 2024-2025 Blauw Geel ------ 49,99\n",
      "No.25 adidas Ajax 3e Broekje 2024-2025 Kids ------ 39,99\n",
      "No.26 adidas Ajax 3e Broekje 2024-2025 ------ 44,99\n",
      "No.27 adidas Ajax Trainingsset 2024-2025 Geel Blauw ------ 90,98\n",
      "No.28 adidas Ajax Originals Track Trainingsbroek 2024-2025 Zwart Wit Bordeauxrood ------ 84,99\n",
      "No.29 adidas Ajax 3e Tenue 2024-2025 ------ 167,97\n",
      "No.30 adidas Ajax Culturewear Trainingspak Woven Full-Zip 2024-2026 Blauw Lichtblauw Geel ------ 149,98\n",
      "No.31 adidas Ajax Originals Trainingspak Full-Zip 2024-2025 Bordeauxrood Wit Zwart ------ 184,98\n",
      "No.32 adidas Ajax Minikit Thuis 2024-2025 Kleuters/Peuters ------ 69,99\n",
      "No.33 adidas Ajax Minikit 3e 2024-2025 Kleuters/Peuters ------ 69,99\n",
      "No.34 adidas Ajax Trainingstrui 1/4-Zip 2024-2025 Kids Geel Blauw ------ 64,99\n",
      "No.35 adidas Ajax Uitbroekje 2024-2025 Kids ------ 39,99\n",
      "No.36 adidas Ajax Trainingsbroekje 2024-2025 Blauw Geel ------ 35,99\n",
      "No.37 adidas Ajax Allweather Jack 2024-2025 Kids Geel Blauw ------ 79,99\n",
      "No.38 adidas Ajax 3e Broekje 2023-2024 ------ 29,99\n",
      "No.39 adidas Ajax Thuistenue 2024-2025 Kids ------ 137,97\n",
      "No.40 adidas Ajax Trainingstrui 1/4-Zip 2024-2025 Geel Blauw ------ 56,99\n",
      "No.41 adidas Ajax Thuisset 2024-2025 Kids ------ 114,98\n",
      "No.42 adidas Ajax Uitbroekje 2024-2025 ------ 34,99\n",
      "No.43 adidas Ajax Trainingsset 2024-2025 Lichtblauw Blauw Geel ------ 84,98\n",
      "No.44 adidas Ajax Polo Trainingsset 2024-2025 Geel Blauw ------ 85,98\n",
      "No.45 adidas Ajax Trainingsshirt 2024-2025 Lichtblauw Blauw Geel ------ 48,99\n",
      "No.46 adidas Ajax Uittenue 2024-2025 ------ 157,97\n",
      "No.47 adidas Ajax Thuissokken 2024-2025 ------ 22,99\n",
      "No.48 adidas Ajax Trainingstrui 1/4-Zip 2024-2025 Lichtblauw Blauw Geel ------ 54,99\n",
      "No.49 adidas Ajax Thuisset 2024-2025 ------ 139,98\n",
      "No.50 adidas Ajax Thuisbroekje 2024-2025 Kids ------ 39,99\n",
      "No.51 adidas Ajax Trainingsshirt 2024-2025 Geel Blauw ------ 54,99\n",
      "No.52 adidas Ajax Presentatie Trainingspak Full-Zip 2024-2025 Kids Geel Blauw ------ 134,98\n",
      "No.53 adidas Ajax Presentatie Trainingsbroek 2024-2025 Blauw Geel ------ 64,99\n",
      "No.54 adidas Ajax Babykit Thuis 2024-2025 ------ 59,99\n",
      "No.55 adidas Ajax Babykit Uit 2024-2025 ------ 53,99\n",
      "No.56 adidas Ajax Trainingspak Full-Zip 2023-2024 Wit Donkerblauw Lichtblauw ------ 69,99\n",
      "No.57 adidas Ajax Trainingsshirt 2024-2025 Kids Geel Blauw ------ 49,99\n",
      "No.58 adidas Ajax Thuistenue 2024-2025 ------ 162,97\n",
      "No.59 adidas Ajax Thuisbroekje 2024-2025 ------ 44,99\n",
      "No.60 adidas Ajax Presentatie Trainingsjack 2024-2025 Geel Blauw ------ 84,99\n",
      "No.61 adidas Ajax Trainingsbroek 2024-2025 Kids Blauw Geel ------ 59,99\n",
      "No.62 adidas Ajax Trainingspak Hooded 2023-2024 Zwart Zilver Wit ------ 89,98\n",
      "No.63 adidas Ajax Polo Trainingsset 2024-2025 Lichtblauw Blauw Geel ------ 85,98\n",
      "No.64 adidas Ajax Pre-Match Trainingsshirt 2024-2025 Kids Zwart Rood Wit ------ 59,99\n",
      "No.65 adidas Ajax Thuisbroekje 2023-2024 ------ 22,50\n",
      "No.66 adidas Ajax Originals Trainingsjack 2024-2025 Bordeauxrood Wit Zwart ------ 99,99\n",
      "No.67 adidas Ajax Track Trainingsbroek 2023-2024 Zwart Zilver Wit ------ 44,99\n",
      "No.68 adidas Ajax Trainingstrui 2023-2024 Wit Donkerblauw Lichtblauw ------ 39,99\n",
      "No.69 adidas Ajax Culturewear Trainingsbroek Woven 2024-2025 Blauw Lichtblauw Geel ------ 69,99\n",
      "No.70 adidas Ajax Presentatie Trainingsjack 2024-2025 Kids Geel Blauw ------ 74,99\n",
      "No.71 adidas Ajax Culturewear Trainingsjack Woven 2024-2025 Blauw Lichtblauw Geel ------ 79,99\n",
      "No.72 adidas Ajax Polo 2024-2025 Geel Blauw ------ 49,99\n",
      "No.73 adidas Ajax Hoodie 2023-2024 Zwart ------ 44,99\n",
      "No.74 adidas Ajax Polo 2024-2025 Lichtblauw Blauw Geel ------ 49,99\n",
      "No.75 adidas Ajax Originals T-Shirt 2024-2025 Bordeauxrood Wit Zwart ------ 49,99\n",
      "No.76 adidas Ajax Polo 2023-2024 Wit Lichtblauw ------ 24,99\n",
      "No.77 adidas Ajax Trainingspak 1/4-Zip 2023-2024 Wit Donkerblauw Lichtblauw ------ 69,98\n",
      "No.78 adidas Ajax Trainingsbroekje 2024-2025 Kids Blauw Geel ------ 31,99\n",
      "No.79 adidas Ajax T-Shirt 2023-2024 Zwart ------ 24,99\n",
      "No.80 adidas Ajax Heuptasje Blauw Lichtblauw Geel ------ 27,99\n",
      "No.81 adidas Ajax Thuissokken 2023-2024 ------ 14,99\n",
      "No.82 adidas Ajax Trainingspak 1/4-Zip 2023-2024 Donkerblauw Lichtblauw Lichtroze ------ 49,98\n",
      "No.83 adidas Ajax Trainingspak Hooded 2023-2024 Wit Donkerblauw Lichtblauw ------ 59,98\n",
      "No.84 adidas Ajax Trainingsbroek 2023-2024 Donkerblauw Lichtblauw Lichtroze ------ 29,99\n",
      "No.85 adidas Ajax Track Hoodie 2023-2024 Wit Donkerblauw Lichtblauw ------ 29,99\n",
      "No.86 adidas Ajax Uitshirt 2023-2024 ------ 49,99\n",
      "No.87 adidas Ajax Polo Trainingsset 2023-2024 Wit Donkerblauw Lichtblauw ------ 47,49\n",
      "No.88 adidas Ajax Presentatie Trainingspak 2023-2024 Wit Donkerblauw Lichtblauw ------ 59,98\n",
      "No.89 adidas Ajax 3e Shirt 2023-2024 Kids ------ 29,99\n",
      "No.90 adidas Ajax Uitshirt 2023-2024 Kids ------ 29,99\n",
      "No.91 adidas Ajax Trainingsbroekje 2023-2024 Donkerblauw Lichtblauw Lichtroze ------ 22,50\n",
      "No.92 adidas Ajax Thuisshirt 2023-2024 ------ 49,99\n",
      "No.93 adidas Ajax 3e Sokken 2023-2024 ------ 9,99\n",
      "No.94 adidas Ajax Trainingstrui 2023-2024 Donkerblauw Lichtblauw Lichtroze ------ 19,99\n",
      "No.95 adidas Ajax Trainingstrui 2023-2024 Kids Wit Donkerblauw Lichtblauw ------ 29,99\n",
      "No.96 adidas Ajax Presentatie Trainingsjack 2023-2024 Wit Donkerblauw Lichtblauw ------ 29,99\n",
      "No.97 adidas Ajax Uitbroekje 2023-2024 ------ 19,99\n",
      "No.98 adidas Ajax Trainingsbroek 2023-2024 Kids Donkerblauw Lichtblauw Lichtroze ------ 29,99\n"
     ]
    }
   ],
   "source": [
    "i=0\n",
    "while True:\n",
    "    # Scroll down to get all items\n",
    "    driver.execute_script(\"window.scrollTo(0, document.body.scrollHeight);\")\n",
    "\n",
    "    # Waiting for reaction\n",
    "    time.sleep(2)\n",
    "\n",
    "    products = driver.find_elements(By.CLASS_NAME,'product-item-link') #Select all links under the div with id search: these are the search results.\n",
    "    prices = driver.find_elements(By.CLASS_NAME,'price')\n",
    "    \n",
    "    \n",
    "    # Get content from tags\n",
    "    for product, price in zip(products,prices):\n",
    "        if len(product.text)>0 and len(price.text)>0:\n",
    "            i+=1\n",
    "            print(f'No.{i} {product.text} ------ {price.text}')\n",
    "            \n",
    "    try:\n",
    "        # turn into next pages\n",
    "        nextPage = driver.find_element(By.CLASS_NAME,'action.next.page')\n",
    "        nextPage.click()\n",
    "    \n",
    "    except:\n",
    "        # If it is the last page, then end\n",
    "        break\n",
    "    \n",
    "\n"
   ]
  },
  {
   "cell_type": "code",
   "execution_count": null,
   "metadata": {},
   "outputs": [],
   "source": [
    "# Quit the browser\n",
    "driver.quit()"
   ]
  }
 ],
 "metadata": {
  "kernelspec": {
   "display_name": "base",
   "language": "python",
   "name": "python3"
  },
  "language_info": {
   "codemirror_mode": {
    "name": "ipython",
    "version": 3
   },
   "file_extension": ".py",
   "mimetype": "text/x-python",
   "name": "python",
   "nbconvert_exporter": "python",
   "pygments_lexer": "ipython3",
   "version": "3.11.5"
  }
 },
 "nbformat": 4,
 "nbformat_minor": 2
}
