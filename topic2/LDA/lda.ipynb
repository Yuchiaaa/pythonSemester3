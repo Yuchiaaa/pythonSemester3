{
 "cells": [
  {
   "cell_type": "markdown",
   "metadata": {},
   "source": [
    "## NLP with Amazon Fine Food Reviews Dataset\n",
    "\n",
    "This dataset consists of reviews of fine foods from amazon. The data span a period of more than 10 years, including all ~500,000 reviews up to October 2012. Reviews include product and user information, ratings, and a plain text review. It also includes reviews from all other Amazon categories."
   ]
  },
  {
   "cell_type": "code",
   "execution_count": 1,
   "metadata": {},
   "outputs": [],
   "source": [
    "import pandas as pd"
   ]
  },
  {
   "cell_type": "code",
   "execution_count": 2,
   "metadata": {},
   "outputs": [],
   "source": [
    "#Let's load the data\n",
    "df = pd.read_csv('reviews.csv')\n"
   ]
  },
  {
   "cell_type": "markdown",
   "metadata": {},
   "source": [
    "## Overview of data"
   ]
  },
  {
   "cell_type": "code",
   "execution_count": 3,
   "metadata": {},
   "outputs": [
    {
     "data": {
      "text/html": [
       "<div>\n",
       "<style scoped>\n",
       "    .dataframe tbody tr th:only-of-type {\n",
       "        vertical-align: middle;\n",
       "    }\n",
       "\n",
       "    .dataframe tbody tr th {\n",
       "        vertical-align: top;\n",
       "    }\n",
       "\n",
       "    .dataframe thead th {\n",
       "        text-align: right;\n",
       "    }\n",
       "</style>\n",
       "<table border=\"1\" class=\"dataframe\">\n",
       "  <thead>\n",
       "    <tr style=\"text-align: right;\">\n",
       "      <th></th>\n",
       "      <th>Id</th>\n",
       "      <th>ProductId</th>\n",
       "      <th>UserId</th>\n",
       "      <th>ProfileName</th>\n",
       "      <th>HelpfulnessNumerator</th>\n",
       "      <th>HelpfulnessDenominator</th>\n",
       "      <th>Score</th>\n",
       "      <th>Time</th>\n",
       "      <th>Summary</th>\n",
       "      <th>Text</th>\n",
       "    </tr>\n",
       "  </thead>\n",
       "  <tbody>\n",
       "    <tr>\n",
       "      <th>0</th>\n",
       "      <td>1</td>\n",
       "      <td>B001E4KFG0</td>\n",
       "      <td>A3SGXH7AUHU8GW</td>\n",
       "      <td>delmartian</td>\n",
       "      <td>1</td>\n",
       "      <td>1</td>\n",
       "      <td>5</td>\n",
       "      <td>1303862400</td>\n",
       "      <td>Good Quality Dog Food</td>\n",
       "      <td>I have bought several of the Vitality canned d...</td>\n",
       "    </tr>\n",
       "    <tr>\n",
       "      <th>1</th>\n",
       "      <td>2</td>\n",
       "      <td>B00813GRG4</td>\n",
       "      <td>A1D87F6ZCVE5NK</td>\n",
       "      <td>dll pa</td>\n",
       "      <td>0</td>\n",
       "      <td>0</td>\n",
       "      <td>1</td>\n",
       "      <td>1346976000</td>\n",
       "      <td>Not as Advertised</td>\n",
       "      <td>Product arrived labeled as Jumbo Salted Peanut...</td>\n",
       "    </tr>\n",
       "    <tr>\n",
       "      <th>2</th>\n",
       "      <td>3</td>\n",
       "      <td>B000LQOCH0</td>\n",
       "      <td>ABXLMWJIXXAIN</td>\n",
       "      <td>Natalia Corres \"Natalia Corres\"</td>\n",
       "      <td>1</td>\n",
       "      <td>1</td>\n",
       "      <td>4</td>\n",
       "      <td>1219017600</td>\n",
       "      <td>\"Delight\" says it all</td>\n",
       "      <td>This is a confection that has been around a fe...</td>\n",
       "    </tr>\n",
       "    <tr>\n",
       "      <th>3</th>\n",
       "      <td>4</td>\n",
       "      <td>B000UA0QIQ</td>\n",
       "      <td>A395BORC6FGVXV</td>\n",
       "      <td>Karl</td>\n",
       "      <td>3</td>\n",
       "      <td>3</td>\n",
       "      <td>2</td>\n",
       "      <td>1307923200</td>\n",
       "      <td>Cough Medicine</td>\n",
       "      <td>If you are looking for the secret ingredient i...</td>\n",
       "    </tr>\n",
       "    <tr>\n",
       "      <th>4</th>\n",
       "      <td>5</td>\n",
       "      <td>B006K2ZZ7K</td>\n",
       "      <td>A1UQRSCLF8GW1T</td>\n",
       "      <td>Michael D. Bigham \"M. Wassir\"</td>\n",
       "      <td>0</td>\n",
       "      <td>0</td>\n",
       "      <td>5</td>\n",
       "      <td>1350777600</td>\n",
       "      <td>Great taffy</td>\n",
       "      <td>Great taffy at a great price.  There was a wid...</td>\n",
       "    </tr>\n",
       "  </tbody>\n",
       "</table>\n",
       "</div>"
      ],
      "text/plain": [
       "   Id   ProductId          UserId                      ProfileName  \\\n",
       "0   1  B001E4KFG0  A3SGXH7AUHU8GW                       delmartian   \n",
       "1   2  B00813GRG4  A1D87F6ZCVE5NK                           dll pa   \n",
       "2   3  B000LQOCH0   ABXLMWJIXXAIN  Natalia Corres \"Natalia Corres\"   \n",
       "3   4  B000UA0QIQ  A395BORC6FGVXV                             Karl   \n",
       "4   5  B006K2ZZ7K  A1UQRSCLF8GW1T    Michael D. Bigham \"M. Wassir\"   \n",
       "\n",
       "   HelpfulnessNumerator  HelpfulnessDenominator  Score        Time  \\\n",
       "0                     1                       1      5  1303862400   \n",
       "1                     0                       0      1  1346976000   \n",
       "2                     1                       1      4  1219017600   \n",
       "3                     3                       3      2  1307923200   \n",
       "4                     0                       0      5  1350777600   \n",
       "\n",
       "                 Summary                                               Text  \n",
       "0  Good Quality Dog Food  I have bought several of the Vitality canned d...  \n",
       "1      Not as Advertised  Product arrived labeled as Jumbo Salted Peanut...  \n",
       "2  \"Delight\" says it all  This is a confection that has been around a fe...  \n",
       "3         Cough Medicine  If you are looking for the secret ingredient i...  \n",
       "4            Great taffy  Great taffy at a great price.  There was a wid...  "
      ]
     },
     "execution_count": 3,
     "metadata": {},
     "output_type": "execute_result"
    }
   ],
   "source": [
    "# Some example messages\n",
    "df.head()"
   ]
  },
  {
   "cell_type": "code",
   "execution_count": 4,
   "metadata": {},
   "outputs": [
    {
     "data": {
      "image/png": "[encoded data removed]",
      "text/plain": [
       "<Figure size 800x500 with 1 Axes>"
      ]
     },
     "metadata": {},
     "output_type": "display_data"
    }
   ],
   "source": [
    "# Plot posting frequency over time\n",
    "import matplotlib.pyplot as plt\n",
    "\n",
    "df['Time'] = pd.to_datetime(df['Time'], unit='s')\n",
    "df['Time'] = df['Time'].dt.strftime('%Y-%m')\n",
    "fig, ax = plt.subplots(figsize=(8,5))\n",
    "\n",
    "# Group the posts per month, then count, and plot the result!\n",
    "df.groupby(['Time'])['Id'].count().plot(ax=ax, marker='o', lw=1,label='Reviews per month')\n",
    "\n",
    "# Some style\n",
    "ax.set_xlabel('Time')\n",
    "ax.set_ylabel('Amount of Reviews')\n",
    "ax.set_title(\"Users Reviews frequency\")\n",
    "\n",
    "ax.grid(True)\n",
    "fig.tight_layout()\n",
    "\n",
    "plt.legend()\n",
    "plt.show()"
   ]
  },
  {
   "cell_type": "markdown",
   "metadata": {},
   "source": [
    "## Preprocessing the text for NLP"
   ]
  },
  {
   "cell_type": "markdown",
   "metadata": {},
   "source": [
    "### 1. Remove empty or unwanted messages"
   ]
  },
  {
   "cell_type": "code",
   "execution_count": 5,
   "metadata": {},
   "outputs": [],
   "source": [
    "def clean_data(df):\n",
    "    # Remove empty values\n",
    "    df = df.dropna()\n",
    "    df = df.drop_duplicates()\n",
    "    return df.copy()"
   ]
  },
  {
   "cell_type": "code",
   "execution_count": 6,
   "metadata": {},
   "outputs": [
    {
     "name": "stdout",
     "output_type": "stream",
     "text": [
      "Before cleaning: 568454 rows\n",
      "After cleaning: 568401 rows\n"
     ]
    }
   ],
   "source": [
    "print(f\"Before cleaning: {len(df)} rows\")\n",
    "df = clean_data(df)\n",
    "print(f\"After cleaning: {len(df)} rows\")"
   ]
  },
  {
   "cell_type": "markdown",
   "metadata": {},
   "source": [
    "### 2. Text cleaning: Remove HTML tags, URLs, numbers, etc."
   ]
  },
  {
   "cell_type": "code",
   "execution_count": 7,
   "metadata": {},
   "outputs": [
    {
     "name": "stdout",
     "output_type": "stream",
     "text": [
      "I bought these for my husband who is currently overseas He loves these and apparently his staff likes them alsoThere are generous amounts of Twizzlers in each ounce bag and this was well worth the price\n"
     ]
    }
   ],
   "source": [
    "import re\n",
    "\n",
    "def clean_text(text):\n",
    "    # Remove URLs\n",
    "    text = re.sub(r'http\\S+', '', text)\n",
    "    # Remove hashtags (but keep the word following the hashtag)\n",
    "    text = re.sub(r'#', '', text)\n",
    "    # Remove http tags\n",
    "    text = re.sub(r'<([^>]*)>','', text)\n",
    "    # Remove special characters and numbers\n",
    "    text = re.sub(r'[^A-Za-z\\s]', '', text)\n",
    "    # Remove additional white spaces\n",
    "    text = re.sub(r'\\s+', ' ', text).strip()\n",
    "    return text\n",
    "\n",
    "# Example usage:\n",
    "sample_text = \"I bought these for my husband who is currently overseas. He loves these, and apparently his staff likes them also.<br />There are generous amounts of Twizzlers in each 16-ounce bag, and this was well worth the price. <a href=\"\"http://www.amazon.com/gp/product/B001GVISJM\"\">Twizzlers, Strawberry, 16-Ounce Bags (Pack of 6)</a>\"\n",
    "text = clean_text(sample_text)\n",
    "print(text)"
   ]
  },
  {
   "cell_type": "markdown",
   "metadata": {},
   "source": [
    "### 3. Case normalization"
   ]
  },
  {
   "cell_type": "code",
   "execution_count": 8,
   "metadata": {},
   "outputs": [
    {
     "name": "stdout",
     "output_type": "stream",
     "text": [
      "i bought these for my husband who is currently overseas he loves these and apparently his staff likes them alsothere are generous amounts of twizzlers in each ounce bag and this was well worth the price\n"
     ]
    }
   ],
   "source": [
    "def case_normalization(text):\n",
    "    return text.lower()\n",
    "\n",
    "text = case_normalization(text)\n",
    "print(text)"
   ]
  },
  {
   "cell_type": "markdown",
   "metadata": {},
   "source": [
    "### 4. Tokenization: Split into a list of words"
   ]
  },
  {
   "cell_type": "code",
   "execution_count": 9,
   "metadata": {},
   "outputs": [
    {
     "name": "stdout",
     "output_type": "stream",
     "text": [
      "['i', 'bought', 'these', 'for', 'my', 'husband', 'who', 'is', 'currently', 'overseas', 'he', 'loves', 'these', 'and', 'apparently', 'his', 'staff', 'likes', 'them', 'alsothere', 'are', 'generous', 'amounts', 'of', 'twizzlers', 'in', 'each', 'ounce', 'bag', 'and', 'this', 'was', 'well', 'worth', 'the', 'price']\n"
     ]
    }
   ],
   "source": [
    "def tokenization(text):\n",
    "    return text.split()\n",
    "\n",
    "tokens = tokenization(text)\n",
    "print(tokens)"
   ]
  },
  {
   "cell_type": "markdown",
   "metadata": {},
   "source": [
    "###  5. Remove stopwords"
   ]
  },
  {
   "cell_type": "code",
   "execution_count": 10,
   "metadata": {},
   "outputs": [
    {
     "name": "stdout",
     "output_type": "stream",
     "text": [
      "['bought', 'husband', 'currently', 'overseas', 'loves', 'apparently', 'staff', 'likes', 'alsothere', 'generous', 'amounts', 'twizzlers', 'ounce', 'bag', 'well', 'worth', 'price']\n"
     ]
    }
   ],
   "source": [
    "# Use a predefined list of stopwords\n",
    "\n",
    "stopwordlist = set(['i','me','my','myself','we','our','ours','ourselves','you','your','yours','yourself','yourselves','he','him','his','himself','she','her','hers','herself','it','its','itself','they','them','their','theirs','themselves','what','which','who','whom','this','that','these','those','am','is','are','was','were','be','been','being','have','has','had','having','do','does','did','doing','a','an','the','and','but','if','or','because','as','until','while','of','at','by','for','with','about','against','between','into','through','during','before','after','above','below','to','from','up','down','in','out','on','off','over','under','again','further','then','once','here','there','when','where','why','how','all','any','both','each','few','more','most','other','some','such','no','nor','not','only','own','same','so','than','too','very','s','t','can','will','just','don','should','now'])\n",
    "def remove_stopwords(tokens):\n",
    "    return [token for token in tokens if token not in stopwordlist]\n",
    "\n",
    "tokens = remove_stopwords(tokens)\n",
    "print(tokens)"
   ]
  },
  {
   "cell_type": "markdown",
   "metadata": {},
   "source": [
    "### 6. Lemmatization"
   ]
  },
  {
   "cell_type": "code",
   "execution_count": 11,
   "metadata": {},
   "outputs": [
    {
     "name": "stdout",
     "output_type": "stream",
     "text": [
      "Lemmatized Tokens: ['bought', 'husband', 'currently', 'overseas', 'love', 'apparently', 'staff', 'like', 'alsothere', 'generous', 'amount', 'twizzlers', 'ounce', 'bag', 'well', 'worth', 'price']\n"
     ]
    }
   ],
   "source": [
    "import nltk\n",
    "from nltk.stem import PorterStemmer\n",
    "from nltk.stem import WordNetLemmatizer\n",
    "from nltk.tokenize import word_tokenize\n",
    "\n",
    "# Initialize lemmatizer\n",
    "lemmatizer = WordNetLemmatizer()\n",
    "\n",
    "def lemmatize(tokens):\n",
    "    # Perform lemmatization\n",
    "    return [lemmatizer.lemmatize(token) for token in tokens]\n",
    "\n",
    "lemmatized_words = lemmatize(tokens)\n",
    "print(\"Lemmatized Tokens:\", lemmatized_words)\n",
    "tokens = lemmatized_words"
   ]
  },
  {
   "cell_type": "markdown",
   "metadata": {},
   "source": [
    "## Apply TF-IDF on Reviews"
   ]
  },
  {
   "cell_type": "code",
   "execution_count": 12,
   "metadata": {},
   "outputs": [],
   "source": [
    "import math\n",
    "from collections import Counter\n",
    "\n",
    "def compute_tf(documents):\n",
    " \n",
    "    tf_documents = []\n",
    "    for document in documents:\n",
    "        # Count the frequency of each term in the document\n",
    "        tf_documents.append(Counter(document))\n",
    "    return tf_documents\n",
    "\n",
    "def compute_idf(tf_documents):\n",
    "\n",
    "    # Count the number of documents that contain each term\n",
    "    df = Counter()\n",
    "    for tf in tf_documents:\n",
    "        for term in tf.keys():\n",
    "            df[term] += 1\n",
    "            \n",
    "    # Compute the IDF for each term\n",
    "    idf = {}\n",
    "    total_documents = len(tf_documents)\n",
    "    for term, count in df.items():\n",
    "        # Apply the IDF formula\n",
    "        idf[term] = math.log(total_documents / float(count))\n",
    "    return idf\n",
    "\n",
    "\n",
    "def compute_tf_idf_manual(documents):\n",
    " \n",
    "    # First compute the term frequency for each document\n",
    "    tf_documents = compute_tf(documents)\n",
    "    # Then compute the inverse document frequency for all terms\n",
    "    idf = compute_idf(tf_documents)\n",
    "    \n",
    "    # Now compute the TF-IDF for each term in each document\n",
    "    tf_idf_documents = []\n",
    "    for tf in tf_documents:\n",
    "        tf_idf = {}\n",
    "        for term, frequency in tf.items():\n",
    "            # Multiply term frequency by inverse document frequency\n",
    "            tf_idf[term] = frequency * idf[term]\n",
    "        tf_idf_documents.append(tf_idf)\n",
    "    \n",
    "    return tf_idf_documents\n",
    "\n",
    "# Sort the dictionary by value in descending order and select the top N items\n",
    "def get_highest_values(input_dict, N=1):\n",
    "    return sorted(input_dict.items(), key=lambda item: item[1], reverse=True)[:N]\n",
    "\n",
    "    "
   ]
  },
  {
   "cell_type": "code",
   "execution_count": 13,
   "metadata": {},
   "outputs": [
    {
     "name": "stdout",
     "output_type": "stream",
     "text": [
      "1999 ['recite', 'rumplestiskin']\n",
      "2000 ['clamshell', 'bettlejuice', 'tks', 'gopher', 'welch', 'graced', 'quotbeetlejuicequot']\n",
      "2001 ['eggwhitesugar', 'coloring', 'cinematography', 'theatersmy', 'widescreen', 'deathrock', 'attic']\n",
      "2002 ['cadiz', 'elfman', 'storyline', 'poetry', 'undrunk', 'moviemichael', 'deitz', 'recorked', 'winedamaging', 'outtake', 'album', 'cinematic']\n",
      "2003 ['dialog', 'tastingive', 'puppetmaster', 'shortbrief', 'kittles', 'quotespressoquot', 'quotbeetlejuicequot', 'quotkonaquot', 'tentsuyu']\n",
      "2004 ['quot', 'equivolent', 'tiptoe', 'gory', 'betelgeuse', 'philipine', 'scissorhands', 'havego', 'tastetells', 'targetwhat', 'coffeefresh', 'detzes']\n",
      "2005 ['listthese', 'clint', 'caiman', 'maitland', 'barsorganic', 'shortbreadbut', 'jarritos', 'sucralosewhy', 'luden', 'crix', 'stevia', 'foodtablefood']\n",
      "2006 ['rooibois', 'yearservice', 'tea', 'andie', 'tea', 'chocolate', 'eatpart', 'oreo', 'tea', 'tea', 'tea', 'mg']\n",
      "2007 ['tea', 'tea', 'tea', 'tea', 'taste', 'tea', 'taste', 'tea', 'tea', 'tea', 'tea', 'taste']\n",
      "2008 ['taste', 'tea', 'tea', 'tea', 'tea', 'taste', 'chip', 'chip', 'chip', 'tea', 'cat', 'cat']\n",
      "2009 ['dog', 'taste', 'taste', 'taste', 'taste', 'dog', 'taste', 'taste', 'tea', 'taste', 'taste', 'taste']\n",
      "2010 ['tea', 'taste', 'taste', 'taste', 'taste', 'coffee', 'patheticdont', 'taste', 'coffee', 'taste', 'coffee', 'coffee']\n",
      "2011 ['taste', 'taste', 'taste', 'taste', 'taste', 'taste', 'taste', 'taste', 'taste', 'dog', 'taste', 'taste']\n",
      "2012 ['taste', 'taste', 'coffee', 'coffee', 'coffee', 'coffee', 'taste', 'taste', 'taste', 'taste']\n"
     ]
    }
   ],
   "source": [
    "# Group text by month\n",
    "grouped = df.groupby('Time')['Text'].apply(' '.join).reset_index()\n",
    "\n",
    "##------\n",
    "# Preprocessing goes here: this just splits each document into tokens. Replace it with more cleaning!\n",
    "# [YOUR PREPROCESSING CODE HERE\n",
    "grouped['tokens'] = grouped['Text'].apply(clean_text).apply(case_normalization).apply(tokenization).apply(remove_stopwords).apply(lemmatize)\n",
    "## -------\n",
    "\n",
    "#Calculate TF-IDF per month\n",
    "grouped['tfidf'] = compute_tf_idf_manual(grouped['tokens'])\n",
    "\n",
    "#Get the top-word \n",
    "grouped['tfidf_top']  = grouped['tfidf'].apply(get_highest_values)\n",
    "\n",
    "# Print out year-by-year\n",
    "grouped['year'] = grouped.Time.str[:4]\n",
    "for year in grouped.year.unique():\n",
    "    gy = grouped.loc[grouped['year']==year]\n",
    "    print(year, [a[0][0] for y,a in  zip(gy['Time'],gy['tfidf_top'])])"
   ]
  },
  {
   "cell_type": "markdown",
   "metadata": {},
   "source": [
    "# Sentiment analysis with VADER"
   ]
  },
  {
   "cell_type": "code",
   "execution_count": 14,
   "metadata": {},
   "outputs": [],
   "source": [
    "from vaderSentiment.vaderSentiment import SentimentIntensityAnalyzer\n",
    "\n",
    "#Create an instance of the VADER sentiment analyzer\n",
    "analyzer = SentimentIntensityAnalyzer()\n",
    "\n",
    "#Define a function to perform sentiment analysis using VADER\n",
    "def get_sentiment(text):\n",
    "    sentiment = analyzer.polarity_scores(text)\n",
    "    compound_score = sentiment['compound']\n",
    "    return compound_score\n"
   ]
  },
  {
   "cell_type": "code",
   "execution_count": 15,
   "metadata": {},
   "outputs": [
    {
     "name": "stdout",
     "output_type": "stream",
     "text": [
      "Most Negative\n",
      "['Green Tea Ingredient Slows Breast Cancer-Antioxidant in Green Tea May Stop Breast Cancer Growth<br /><br /><a href=\"http://www.amazon.com/gp/product/B000WB1YSE\">Kirkland Signature Green Tea Matcha Blend, 100% Japanese Tea Leaves, 100 Tea Bags by A2AWorld Green Tea</a><br /><br />By Jennifer Warner<br />WebMD Health News<br />Reviewed by Louise Chang, MD<br />April 7, 2008 -- An antioxidant in green tea may be a powerful weapon against breast cancer.<br />A new study shows the green tea antioxidant EGCG (epigallocatechin-3-gallate) significantly slowed breast cancer growth in female mice.<br />Cancer Videos<br /><br />Video: Cancer and Exercise<br /><br />Video: Making Chemotherapy Safer<br /><br />Video: Foods After Cancer<br />All Cancer-Related Videos<br />Related Slideshows<br />* Dangers of Sun-Damaged Skin<br />* Common Adult Skin Problems<br />Related to<br />lymphoma, leukemia, chemotherapy, radiation, mammogram, PSA test , colonoscopy, herceptin, tamoxifen, breast cancer -- Colposcopy, lung cancer, skin cancer, prostate cancer, cervical cancer, colon cancer<br />© 2008 WebMD, LLC. All rights reserved.<br />Previous studies have suggested that this antioxidant may protect against breast cancer and other cancers, but this research has been limited, and the mechanism behind these effects isn\\'t clear.<br />Researchers say the results suggest that green tea\\'s anticancer effects may be largely because of its high content of EGCG, which helps the body\\'s cells from becoming damaged and aging prematurely.<br />Behind Green Tea\\'s Anticancer Effect<br />In the study, presented this week at the Experimental Biology 2008 conference, researchers examined the effects of the green tea antioxidant on several indicators of breast cancer growth in laboratory mice.<br />One group of the female mice was fed a solution of the antioxidant in water for five weeks while the other received regular drinking water. During the second week of the study, researchers injected both groups with breast cancer cells.<br />At the end of the study, researchers measured tumor size, weight, and density as well as VEGF protein levels associated with tumor growth.<br />The results showed that treatment with the green tea antioxidant decreased tumor size by 66% and weight by 68% compared with the control group. Mice fed the antioxidant also had significantly lower density of small blood vessels within tumors and VEGF protein levels.<br />Researcher Jian-Wei Gu, of the University of Mississippi Medical Center in Jackson, says the green tea antioxidant may work against breast cancer by suppressing blood vessel growth in breast tumors as well as slowing the proliferation and migration of breast cancer cells.<br /><br />Mechanism for green tea\\'s anti-cancer action revealed<br />17-May-2005<br />Related topics: Research, Phytochemicals, plant extracts, Cancer risk reduction<br />Green tea appears to protect against cancer by affecting a \\'promiscuous\\' protein that pharmaceutical experts are already targeting in their work on anti-cancer drugs, according to new research.<br />The study, by PhD student Christine Palermo at the University of Rochester Medical Center, reveals a potential new mechanism to explain the tea, and particularly its active compounds\\' action against cancer.<br />While many studies suggest that green tea protects people against some forms of cancer, such as breast and liver cancer, exactly how it does so has been difficult to pinpoint.<br />\"It\\'s important to find out the source of green tea\\'s protective effects,\" said toxicologist Thomas A Gasiewicz, whose work on the harmful effects of dioxin led the Rochester group to explore the protective effects of green tea.<br />\"What is exciting here is that a completely new mechanism has been found that very well could be responsible for its protective effects, and that could help us find a compound that is much more potent.\"<br />Palermo, Gasiewicz, and current undergraduate Claire Westlake discovered that a chaperone protein known as HSP90 is involved in conferring green tea\\'s protective effects. Other researchers have shown that many cancer cells have an increase in the level of HSP90 compared to healthy cells, and that when HSP90 is blocked, levels of proteins that make cancer cells grow drop.<br />Drug makers are currently working on ways to block HSP90, which is known as a promiscuous chaperone protein because it binds to many different cells and receptors in the body. It turns out that those researchers are trying to duplicate what green tea does naturally. Gasiewicz says green tea might modulate HSP-90 in a way that researchers have not seen before.<br />Gasiewicz and his group have shown how dioxin and other substances like cigarette smoke manipulate a major cancer-causing molecule, the aryl hydrocarbon (AH) receptor, which frequently plays a role in turning on genes that are oftentimes harmful.<br />Two years ago the team discovered that AH activity is inhibited by a chemical found in white and green teas, epigallocatechingallate or EGCG, now being produced and marketed as a supplement by DSM.<br />\"We initially hypothesized that EGCG would work in the same way as other AH antagonists, by binding directly to it. We were completely surprised that this isn\\'t the case,\" said Gasiewicz, whose work was funded by the National Institute of Environmental Health Sciences and the American Institute for Cancer Research.<br />Instead, the team found that EGCG binds to HSP90, a protein that helps other proteins stay stable, serving the same role as a tail on a kite. When the two bind, HSP90 no longer turns on the AH receptor, stopping the cascade of events that would lead to the activation of several harmful genes.<br />Another potential mechanism for green tea\\'s action was outlined recently by a team at the University of Wisconsin and Case Western Reserve University in Cleveland, Ohio. The found that green tea polyphenols reduce levels of insulin-like growth factor-1 (IGF-1) in prostate tumour cells in a mouse model for human prostate cancer. Increased levels of IGF-1 are associated with higher risk of several cancers, such as prostate, breast, lung and colon.<br />Meanwhile, researchers at Kyushu University in Japan reported last year that EGCG appears to inhibit tumour cell growth by binding to a receptor on cells called the 67-kDa laminin receptor. A variety of tumours produce abnormally high levels of 67 LR, and the receptor is thought to be involved in the spread of cancers through the body.<br /><br />If you have problems completing your update and need to contact customer service, please report the following code with your request<br />Code: 02Oq8o2BBAXAacmKMMMF4TBY<br /><br />Is Green Tea Really an Anti-Cancer Miracle?<br />Talk to your doctor about green tea.<br /><br />By Gale Maleskey, MS, RD<br />Registered Dietitian<br />About the Author<br />July 23, 2009<br /><br />Change Text Size A | A | A<br />If you\\'ve had cancer, or a precancerous condition, it\\'s time to talk with your doctor about using green tea extract. More and more research is showing that green tea extract can slow the progression of cancer. It doesn\\'t work for all cancers, but it seems to have a significant effect on some types. Its effect may even depend on genetic markers and hormone sensitivities associated with your type of cancer.<br /><br />Some of the cancers that green tea can face down include prostate, esophageal, bladder, cervical, pancreatic, ovarian, lymphoma and leukemia. Green tea is also active against human papilloma virus (HPV) a sexually transmitted virus associated with cervical and anal cancer and warts.<br /><br />(Since green tea can also apparently neutralize some chemotherapy treatments, such as Velcade, used for multiple myeloma and mantel cell lymphoma, it\\'s important that you consult with your doctor if you are undergoing treatment.)<br /><br />The most recent study, by researchers at Louisiana State University, found that men scheduled for a radical prostatectomy due to cancer who took a green tea extract had a significant reduction in the markers predictive of prostate cancer progression. In some men, the drop was more than 30%! The reductions were in biochemicals that either stimulate cancer growth or indicate continued cancer growth. The men took a total of 1.3 grams of tea polyphenols, equivalent to about 12 cups of green tea. (McLarty, J, et al. Cancer Prev Res. 2009 June 19.) [E Pub ahead of print.]<br /><br />Even though this was a small study, other evidence suggests that green tea can take on cancer. One study found that men with high-grade prostate intraepithelial neoplasia -- cellular changes that often lead to cancer -- who took green tea catechins 200 mg three times daily for a year, had a reduced risk of progression to prostate cancer. (Bettuzzi S, et al. Cancer Res .2006;66:1234-40.)<br /><br />Polyphenols (catechins, such as EGCG) in tea appear to protect cells from DNA damage that can promote cancer. Animal research suggests that the EGCG in green tea may prevent new blood vessel growth in tumors, inhibit tumor cell proliferation, and induce death in cancer cells in at least two different ways.<br /><br />The Anti-Aging Bottom Line: Green tea extract can be an important part of an anti-cancer arsenal. For general prevention, we recommend about 450 mg a day of a standardized green tea extract. Unlike brewed tea and non-standardized green tea extracts, our formula provides consistently high amounts of green tea\\'s most active constituents. If you\\'re being treated for cancer, it\\'s best to talk with your doctor about dosage.<br /><br /><a href=\"http://www.amazon.com/gp/product/B000WB1YSE\">Kirkland Signature Green Tea Matcha Blend, 100% Japanese Tea Leaves, 100 Tea Bags by A2AWorld Green Tea</a><br /><br /><a href=\"http://www.amazon.com/gp/product/B002K2MUUY\">Lipton Green Tea - 100% Natural, 2009 New Spring Tea, 50 Fresh Tea Bags from China by A2AWorld Green Tea</a><br /><br /><a href=\"http://www.amazon.com/gp/product/B002OI9D9K\">Tianfang Huangshan Maofeng Green Tea 68g Gift Tin</a>', 'Bought the SS525CS Light Duty Fence energizer to keep our minpins from digging out from underneath our fence.  It was our last resort since they broke through every other barrier we set up.  It did the trick!  We set it up at our new house so it surrounds the fence all the way around, and also set a single strand on the outside of the back of the fence, which butts up to vacant land where coyotes and stray animals run around.  We didn\\'t want coyotes coming to our yard and digging in to get at the dogs, so this was a great idea.  We\\'ve heard loose dogs get shocked out back there, and that keeps our animals safe.  Well, unfortunately yesterday I heard the energizer making a louder than usual buzzing sound and knew that something was wrong.  We previously had a kitten get stuck on it on the inside of our yard (poor thing was scared half to death by the fence and the dogs!), and bit the wire.  It fried it\\'s poor little mouth to the wire and his legs were stuck straight out. We turned the fence off but the poor little guy had been shocked terribly.  He ended up being \"ok\" and we found him a home.<br /><br />Yesterday when I heard the noise I freaked out and went looking around the perimeter, and found another stray kitten, with one of its rear paws stuck to the outer perimeter\\'s line.  I couldn\\'t save this one. The fence killed him.  The side of his body that was touching the ground was smouldering and burnt. I had to pick up the body and dispose of it.  I cried a LOT yesterday about this.  We have a cat and a kitten in our home and it devastated me that we were responsible for the death of this precious little life.<br /><br />But today, after thinking more about it and then going online to research, it turns out that the manufacturer knows that the energizers with \"CS\" in the model number (means \"Continuous Shock\") DO KILL small animals.  Despite thier knowledge of this, the company still advertises that \"No commercially made charger when installed properly will harm a pet or human.\"  The problem isn\\'t improper installation here; it\\'s that the shock in this model is continuous and doesn\\'t give a smaller animal the chance to pull away. Cats and kittens are notorious for biting at things that hurt them, and once they clamp down, there\\'s no getting loose unless someone happens to see what is going on.  If you are considering an electric fence, be sure it is an Intermittent Shock energizer.  This means it pulsates and allows the animal to get off the wire.  As far as I\\'m concerned, the item I\\'m reviewing, SS525CS, is a death trap for small animals (and birds & frogs too).', 'I don\\'t usually write negative reviews ... I just don\\'t write anything at all ... but this product is SO BAD that it deserves a really bad review.  FIRST PROBLEM: it is supposedly low in carb but it takes a stick of butter and a mountain of heavy cream to make it.  Huh? Low carb but heart attack fat?  YUK.  SECOND PROBLEM: it is very difficult to make - it has three different bags, needs three bowls, lots of measuring, lots of utensils, lots of work.  It would have been less work to create from scratch.  THIRD PROBLEM: it did not create a \"jelly roll\" type item - it created a big gloppy sticky mess that was difficult to work with.  FOURTH PROBLEM:  It did not come out like a roll; it came out like a biscuit or a scone.  Just a baked glob.  FIFTH PROBLEM:  it tasted LOUSY.  Just plain lousy.  Not even the pecan topping tasted good.<br /><br />Don\\'t waste your money on this mess.  This is the second one of the Dixie Low Carb items I\\'ve made and each one is worse than the next.  Don\\'t bother.']\n",
      "\n",
      " Most positive\n",
      "['I have really been into Yogi tea and trying them all! I have all the green teas and after a month of testing them I conclude that Rejuvenation tastes the best. It has a natural peach and lemon flavor that is very natural and mild. Most say the Simply Green tastes the best but to me it was far too boring. I got used to all the special herbs and natural flavors and the Simply Green had none added. I do not like the artificial flavors at all, nor do I like the artificial sweet taste added by too much stevia leaf.<br /><br />This Slim Life tea is very good- Amazingly good compared to diet green tea pills! I do not ever feel the side effects of a diet pill with this tea and I drink a lot of it being I got 6 boxes from Amazon. I think it\\'s a wonderful tea but I\\'d prefer it if the natural blueberry flavor was left out. It does taste natural and sweet but mixed with Green tea, I\\'d prefer the lemon or peach flavors myself. If you do love the flavor of berry in your tea, you will love this one and it is mild and pleasant to drink all day long.<br /><br />The Super Anti-Oxidant variety of tea tastes good except for the licorice. The licorice is okay in the bedtime and calming teas, but does not taste right in green tea. Other then the licorice it does have a very good lemon flavor that is soothing and mild. The Kombucha tea is also great which has a berry taste, that is good and natural passion fruit and plum, but I prefer the lemon flavor in my green tea. The Slim Life tea is also very good but it does have a blueberry flavor in it, but it is worlds better then the Fasting tea, which tastes the worst of all the Yogi teas. I just love the Yogi tea positive messages don\\'t you? At first I just bought these teas for the messages then I learned to love the tea as well! Rejuvenation is my favorite green tea and Peach Detox and Redbush Chai are my favorite flavored teas and make exceptionally good iced tea as well! The flavors, however, are very close and it took me quite a while to figure out which green tea I preferred the best. This one is good if you like licorice in your green tea that is.<br /><br />Wise quotes from Yogi Tea by Yogi Bhajan<br /><br />\"The universe is the stage on which you dance, guided by your heart.\"<br /><br />\"The purpose of life is to enjoy every moment.\"<br /><br />\"Delight the world with compassion, kindness and grace.\"<br /><br />\"Laugh because that is your purpose in life.\"<br /><br />Happiness is every human beings birthright.\"<br /><br />\"Be happy so long as breath is in you.\"<br /><br />\"Real happiness lies in that which never comes nor goes, but simply is.\"<br /><br />\"Travel light, live light, spread the light, be the light.\"<br /><br />\"Your greatness is not what you have, it\\'s what you give.\"<br /><br />\"Practice kindness, mercy and forgiveness.\"<br /><br />\"Bliss cannot be disturbed by gain or loss.\"<br /><br />\"Compassion has no limit. Kindness has no enemy.\"<br /><br />\"There is no love without compassion.\"<br /><br />\"Appreciate yourself and honor your soul.\" \"Love your soul.\"<br /><br />\"Grace brings trust, appreciation, love and compassion.\"<br /><br />\"Be proud of who you are.\"<br /><br />\"There is nothing more precious than the self.\"<br /><br />\"Love is where compassion prevails and kindness rules.\"<br /><br />\"An attitude of gratitude brings opportunities.\"<br /><br />\"Recognize that the other is you.\"<br /><br />\"Life is a flow of love; your participation is requested.\"<br /><br />\"Where there is love there is no question.\"<br /><br />\"Your greatest strength is love.\"<br /><br />\"The best way to live is to be, simply be.\"<br /><br />\"When you know that all is light, you are enlightened.\"<br /><br />\"Your head must bow to your heart.\"<br /><br />\"Fall in love, stay in love, and it will decide everything.\"<br /><br />\"All that is needed is surrender and gratitude.\"<br /><br />\"To be calm is the highest achievement of the self.\"<br /><br />\"May this day bring you peace, tranquility and harmony.\"<br /><br />\"Old age needs wisdom and grace.\"<br /><br />\"Understanding is found through compassion.\"<br /><br />\"Love, compassion and kindness are anchors in life.\"<br /><br />\"Inspiring others towards happiness brings you happiness.\"<br /><br />\"Gratitude is the open door to abundance.\"<br /><br />\"Let love elevate your self to excellence.\"<br /><br />\"Uplift everybody and uplift yourself.\"<br /><br />\"The art of happiness is to serve.\"<br /><br />\"The body is a temple. Take care of it.\"<br /><br />\"Truth is everlasting.\"<br /><br />\"To learn, read. To know, write. To master, teach.\"', '*********************************************************<br /> UPDATE:  READ THE UPDATE BELOW FIRST. Thanks. (June 15 and August 3, 2012)<br />*********************************************************<br />  I WAS, BUT NO MORE (actively anyway). We have four cats: two (\"normals\") who eat about anything, one with kidney disease (CRF/CKD) and accompanying reduced appetite, and one that has picky (and weird) tastes.  In the process of trying to find an appetite stimulant for the mom-cat (with CRF/CKD) I tried out several products on her and the others (the kids) as well.<br />Here are the results of this less than scientific (or definitive) survey:<br /><br />  Drs.Foster&Smith Shrimp Snappies Treats (ground to powder)-----------ALL REFUSED.<br />  Freeze-dried powders (Prowl and Ziwi Peak)----------------------------NO EFFECT. All but one (Ms. Picky) ate them.<br />  Seafood juices (tuna, oyster, sardine, etc.)-----------------------------NO EFFECT. All but (same) one ate them.<br />  Dry (ground to powder) cat food (Halo, EVO, Blue Fuffalo, etc.)---------NO EFFECT. Ditto acceptance.<br />  Canned cat food (gourmet brands & renal diets)------------------------Ditto.<br />  Hairball tube lubes (usual suspects & Cat Grass)------------------------Ditto.<br />  Mark&Chappells De Furr-ums treats------------------------------------Ditto.<br />  Calming chews & liquid (Pet Naturals)----------------------------------Ditto (except Ms. Picky accepted)<br />  Brewer\\'s yeast(powder)-----------------------------------------------Dulled all appetites a bit; all accepted<br />  Barley Cat (GreenFoods; powder)--------------------------------------EFFECTIVE on mom-cat; others liked except...<br />Drs.Foster&Smith Tuna Treats (ground to powder)----------------------EFFECTIVE on mom-cat;  all others liked<br />  Bonito Sprinkles (Cat-Man-Doo)----------------------------------------EVEN MORE EFFECTIVE; ditto<br />  8in1 Dingo Anchovy Fillets (ground to powder)--------------------------Ditto (effect & acceptance)<br />  Tropical Fish Food (Sergeants Atlantis)---------------------------------Ditto (except Ms Picky liked; 2 normals NOT)<br />  Purina Whisker Lickins Tender Moments (Chicken flavor)-----------------BEST (effect & acceptance)<br />  Whiskas Temptations Treats (crumbled by hand)------------------------BEST (effect & acceptance)<br /><br />Most of the products were accepted by most of our cats but their appetites were not helped noticeably until I found the last seven: Barley Cat (separate review), Drs.F&S Tuna Treats, Cat-Man-Doo Bonito Sprinkles (reviewed here), 8in1 Dingo Anchovy Fillets, tropical fish food (I did not test the \"regular\" or \"beta\" but ingredients were similar and loaded with fillers and dyes; no reason to suspect that the brand is critical), Purina Whisker Lickins Tender Moments and Whiskas Temptations Treats (only \"regular\" Salmon and Chicken flavors tested). Only the Whiskas  Temptations were effective to the point of bringing all our cats\\' appetites back to the \"relish\" or \"enthusiastic\" stage. None of the products were \"perfect\": most lacking in some degree of effectiveness or acceptance and the regular Whiskas Temptations (?the \"natural\" versions?) lacking in quality ingredients and difficult to crush by hand. I have avoided brands like Whiskas for years on nutritional and ethical grounds but I will reluctantly use them in a flavor enchancer role until I find a more suitable alternative. Three of our four cats had weird responses to the tropical fish flakes: our two \"normals\" were absolutely repulsed and our Ms Picky licked her bowl clean.  Go figure.<br /><br />The Cat-Man-Doo (CMD) \"sprinkles\" I bought from HealthyPets.com for just a bit less than the price on Amazon. These are the only dehydrated bonito in \"sprinkles\" form (there is a TUNA DASH product out there but more expensive) that I could find. Other bonito products typically are  large flakes and more expensive. Although the CMD product comes in a shaker jar it is not a \"sprinkles\"  form like salt or pepper and does not shake out as easily or evenly; the \"sprinkles\" are still flakes, just a lot smaller. If you decide to further reduce the size of any of the products it is not necessary to pulverize them to a fine powder.  Generally they come out of a shaker container a little more uniformly if left slightly course. The Whiskas  treats, because of their soft center, are best crumbled by hand.  The Whiskas  products present the best value: about 300 servings for about $1.80 on sale at PetCo (and a bit less at Walmart). Purina Whisker Lickens come in several flavor varieties and, though equally effective, contain about 150 servings and are more expensive even on Amazons best terms (multi-pack and free shipping). Purina WL (3 oz) would have to sell for under $1 per pack off the shelf or with free shipping to be competitive. I found several of the products (DrsF&S, 8in1, Sergeants, Purina WL, and Whiskas) at a discount store (BigLots). Among the dried fish products, the CMD sprinkles do offer good value: about $2.80 per ounce (before shipping, taxes) and provide so many servings that I could not attempt to count or even estimate. If your pet gets turned on by CMD then, because of the prodigious number of servings, the CMD could be the better value. A word of caution on the CMD quantity: The listings and ads stated that the sprinkles jar contains 8 oz. NOT TRUE.  The company used a fluid ounce (volume) measure rather than a weight measure for this particular product.  The sprinkles jar contains at least 2 1/2 oz by weight. Even so, the price still beats other brands of bonito (and tuna) products that I ran across.  Credit to the company, however, since they packed the jar about as full as possible and they responded positively to my complaint about the choice of measures and confirmed that the labels, ads, and other marketing materials will be changed ASAP to state the 2 1/2 oz weight measure. Will they pack the jar as tight?  Cat-Man-Doo also is introducing a chicken sprinkles product (2 oz size).  I wonder: would our Ms. Picky take to that?<br /><br />CONCLUSION: Effective appetite enhancers are out there and probably one that matches the pickiest/weirdest of tastes.  The problem, as I discovered, is finding it.  As far as I can tell, there is no logic, no rhyme, no reason to use as a guide. Individual differences among cats seems to be the norm and consistency of preferences does not appear to be of any evolutionary value. Cases in point: our Ms. Picky.  She does not like flavors OF meat and fish  but loved the food flakes FOR fish; our \"normals\", who rarely refuse anything, were sorely offended by the same offering.  Personally, we now have reasonably priced go-to flavor enhancers for all our cats (Whiskas Temptations) and  back ups (Cat-Man-Doo Sprinkles) for all as well, even Ms Picky.<br /><br />SIDE NOTE: I powdered and combined the 8in1 Dingo anchovy product and the Cat-Man-Doo sprinkles, which suggests that other closely effective products may be mixed successfully. I did it just to use down the anchovies since they are relatively expensive and I probably would not purchase them at full retail price.<br /><br />So until their tastes change (again) we are no longer actively searching for appetite boosters.  Hope this review helps (with products or ideas) ANYONE ELSE (even dog companions) WHO IS STILL SEARCHING FOR A PET APPETITE ENHANCER.<br /><br />  ****************************<br /><br />UPDATE: AND THEIR TASTES DID CHANGE--REPEATEDLY. AND I ACQUIRED A WHOLE NEW PERSPECTIVE after trying over four dozen flavor additives over the past year. There are two approaches to re-stimulating pet appetites; ON food or IN the pet; that is, from the outside in or the inside out. I WAS TAKING THE WRONG APPROACH, assuming that all I had to do was find the right product to add to my cats\\' food and Valla!, problem solved! The following are my personal conclusions after many months and conversations with several vets:<br />  1) Diminished appetite may be difficult to distinguish from strong preferences (picky-picky) and preference changes.<br />  2) Normally healthy pets experience swings in appetite (like, seasonal or during hairball buildup) and do not need extra appetite stimulants or treats (although you would never guess that from the explosion of treats on pet food aisles). Even pets that play or perform only expect approval, attention and affection. Everyday pet feed should provide an adequate level of sensory interest.  If not, then find an appropriate formula (or mix of brands and wet/dry) that does. Affordability may be an issue but \"treats\" are not cheap and I have not done the math to get a fix on the  pricepoint at which treats would become more expensive. In any event, off-the-shelf enhancers/treats may have a role in case of genetic or age-related sensory loss, as a short-term aid, as a palliative after a rough experience/day, or as a \"last resort\".<br />  3) Pets with known or suspected medical issues may need the inside-out approach. Additive appetite enhancers may not be much help if the reduction in appetite is due to a medical case. The short term benefit from (even the best) appetite additives (anywhere from one meal to several months), may be long enough to keep them going while the underlying medical issues and related appetite symptoms are resolved (or not). Some inside-out Rx appetite enhancers also may only work short-term (maybe up to 6 weeks); others may work if administered continually; the best (but not typical) outcome would be a jumpstart of the pet\\'s natural appetite.<br />  4) Pets on a special diet (like calorie restriction or Rx) have fewer choices of feed and MAY benefit from added (outside-in) appetite enhancers to even the most palatable available special diet formulas. Expect short term results and anticipate having to cycle through various enhancer products frequently.<br />  5) One reason for the loss of \"magic\" of appetite enhancers is pet intelligence:  they may eventually figure out that they can \"cherry pick\" the tasty additive and leave the relatively unappetizing food; or \"wait out\" your first offering in anticipation of tastier follow-up offerings. BUT the flavor additives work better as sprinkles and tend to lose their magic if mixed in with the food.  I found this to be the case even if I \"marianated\" their regular food with the flavor enhancer in water prior to meals.<br />  6) I have used the phrases \"flavor enhancer\" and \"appetite stimulant\" interchangeably. There probably is a substantive difference but my interest was the end result (a hearty interest in meals and increased consumption).<br /><br />For those readers who are interested in further lists of products I have tried, I set out the items I have researched/used since the last report. They are organized a little differently, hopefully in a more useful fashion.  Besides the specific items, you may find the list helpful in generating further ideas to experiment with.  Unless noted otherwise, the off-the -shelf products were crumbled or pulverized if not already in powder form. Prior consultation with your vet would be advisable if not required, for the INSIDE-OUT types and may prove helpful  before venturing even into the realm of off-the-shelf and DIY flavor enhancers.<br /><br />THE INSIDE-OUT TYPES  (do not depend on the senses but work internally, if at all, to stimulate appetite):<br /><br />  Vitamin B-12 ^^^^^^^^^^^^^^^^ Dexamethasone (Rx injectable steriod)<br />  Pro-biotics ^^^^^^^^^^^^^^^^^ Depo-Medrol (Rx injectable anti-inflammatory )<br />  Pre-biotics ^^^^^^^^^^^^^^^^^ Mirtazipine  (Rx anti-depressant pills)<br />  Exercise ^^^^^^^^^^^^^^^^^^ Cyproheptadine (Rx anti-histamine/serotonin pills and  compounded liquid)<br />  Charcoal (medical/food grades) ^^^^ Cerenia (Rx anti-nausia/inflammatory pill)<br />  Pepcid AC ^^^^^^^^^^^^^^^^^ Zantac<br />  Oral Electrolytes (Non-Rx fluids like: Pedialyte, Caravet, Ions, Pets&Vets, and DIY recipes)<br />  Rx injectable Electrolytes (\"Sub-Q\" fluids)<br />  Rx Oral Electrolytes (like: Rebound OES)<br /><br />THE OUTSIDE-IN TYPES  (depend mainly on the senses of smell/taste to get the attention of the appetite):<br /><br />  Hills Science Diet AD (Rx) ^^^^^^^^^^^^^^^^^Pet Vitamins  (Sargeants)<br />  Dental gel ^^^^^^^^^^^^^^^^^^^^^^^^^^Liver (raw, sauteed; chicken & beef)<br />  Garmon VetClassics Cranberry chews (crumbled)^^^^Liver (human-grade dessicated/dehydrated; capsules/powdered)<br />  Cranberry (liquid)^^^^^^^^^^^^^^^^^^^^^^Hairball \"treats\"<br />  Beefeaters Cod (freeze dried puffs)^^^^^^^^^^^Milk<br />  Cat Milk (Whiskas) ^^^^^^^^^^^^^^^^^^^^^Chicken (freeze dried puffs)<br />  Clinicare RF ^^^^^^^^^^^^^^^^^^^^^^^^^Canned pet food (regular & Rx; seared/browned; crumbled)<br />  Lactulose (Foster & Smith)^^^^^^^^^^^^^^^^Boutique canned food (like Fancy Feast)<br />  Spirulina (St. Jon Naturals)^^^^^^^^^^^^^^^^Vienna Sausage(chicken; meat & broth)<br />  Vita Gravy ^^^^^^^^^^^^^^^^^^^^^^^^^^Pet Naturals Calming Chews, tabs, liquid<br />  Friskies Crispies ^^^^^^^^^^^^^^^^^^^^^^^Mars Crave treats<br />  Pounce treats ^^^^^^^^^^^^^^^^^^^^^^^^JRBFoods Catty Shack treats (Walmart)<br />  \"Super\" Reds/Greens (human) powder ^^^^^^^^^^Bench & Field treats<br />  Other petmates dry food (powdered) ^^^^^^^^^^Foster&Smith Joint Care 2 (powder)<br />  Catnip (powdered)^^^^^^^^^^^^^^^^^^^^^8in1 Kookamunga Catnip Spray<br />  Catsure liquid diet^^^^^^^^^^^^^^^^^^^^^^Rebound Liquid Diet<br />  Cheerios breakfast cereal (crumbled) ^^^^^^^^^^KMR (liquid)<br />  Vanilla extract (no alcohol)^^^^^^^^^^^^^^^^^Pet Greens (freeze-dried liver puffs)<br />  Natural Balance Platefulls-sardines (pureed) ^^^^^^My Little Lion (salmon)<br />  Natural Balance Perfect Bites (rabbit)^^^^^^^^^^ EVO Wild Cravings<br />  VetsBest Right Bites Health Management (dogs) ^^^Mixins (Variety Pet Foods)<br />  PureBites (Pure Treats Inc)freeze-dried liver puffs ^^<br /><br />MOST/LEAST EFFECTIVE Rx PRODUCTS:  There are differences; but best sorted out between you and your vet.<br /><br />MOST EFFECTIVE OF THE NON-Rx PRODUCTS:<br /><br />  In addition to the better ones (according to our cats) noted in the original list (Barley Cat thru Whiskas Temptations), add these to the BEST class::<br /><br />  Dessicated/dehydrated Liver (human grade) capsules/powder (go easy, may cause the runs)<br />  Seared/browned Canned Pet Food (regular and Rx)<br />  Vienna Sausage (chicked meat & broth)<br />  Catty Shack treats (crumbled)<br />  Natural Balance Platefulls-sardines<br />  Pet Greens Freeze Dried puffs (liver)<br />  Natural Balance Perfect Bites (rabbit)<br />  My Little Lion (salmon)<br />  EVO Wild Cravings (herring & Salmon)<br />  VetsBest Right Bites Health Management (dogs)<br />  Mixins (Variety Pet Foods)<br /><br />LEAST EFFECTIVE NON-Rx PRODUCTS:<br /><br />  In addition to the originally listed ineffective ones (again by unscientific poll of our cats): F&S Shrimp Snappies thru brewers yeast powder, add these:<br /><br />  Vita Gravy (Petsmart)<br />  Bench & Field treats (Trader Joes)<br /><br />ALL OTHER NON-Rx PRODUCTS<br /><br />  Most were accepted by all four cats but were not particularly effective as appetite stimulants in our trials. Your pets, especially the healthy ones, may respond more favorably.<br /><br />  IF I WERE STARTING OVER WHAT WOULD I DO?  (Supplementing my \"perspective\" points above) HERE ARE MY MAIN TIPS:  1) Get to know my pets\\' taste preferences in advance of any need  2) Check for medical causes  3) If no medical issues, switch to the other form (dry/wet) of the pet\\'s regular food and try as a flavor enhancer topping and/or as a substitute  4) Then try  warming or browning the wet version of the pet\\'s regular food  5) next, your best choice of a \"treat\" or supplement with the pet\\'s favorite flavor used as a topping  6) then one with a liver taste, such as Barley Cat or Pet Greens Freeze Dried  7) Then Cat-Man-Do bonito sprinkles, Natural Balance Platefuls, Catty Shack treats, Purina Whisker Lickins, or Whiskas Temptations 8) If a product meets with initial acceptance, withhold judgment on \"effectiveness\" until after a few meals worth of experiences  9) forego trying all the hundreds of \"treats\" in search of \"the\" one that will work after you have gone thru your best shots  10) If there are medical issues, consider off-the-shelf and Rx appetite stimulants, singly or in combination  11) If a liquid meal substitute is called for consider REBOUND and CLINICARE RF, but also CATSURE and KMR and (as a last resort?) human versions of liquid renal failure products. Acceptance at this point will likely be a major issue but at least they are there for the trying.<br /><br />  My apologies for the awkward columns but I could not figure out a neat way to compress the information. Hope all this helps and Good Luck.', 'I have really been into Yogi tea and trying them all! I have all the green teas and after a month of testing them I conclude that Rejuvenation tastes the best. It has a natural peach and lemon flavor that is very natural and mild. Most say the Simply Green tastes the best but to me it was far too boring. I got used to all the special herbs and natural flavors and the Simply Green had none added. I do not like the artificial flavors at all, nor do I like the artificial sweet taste added by too much stevia leaf.<br /><br />Kombucha tea is my second favorite Yogi green tea. The flavors added are natural passion fruit and plum, but I prefer the lemon flavor in my green tea. The flavors are mild and pleasant however and this tea has the added health benefits of Kombucha but so does the Rejuvenation tea, which has this same ingredient in it.<br /><br />Slim Life tea is very good- Amazingly good compared to diet green tea pills! I do not ever feel the side effects of a diet pill with this tea and I drink a lot of it being I got 6 boxes from Amazon. I think it\\'s a wonderful tea but I\\'d prefer it if the natural blueberry flavor was left out. It does taste natural and sweet but mixed with Green tea, I\\'d prefer the lemon or peach flavors myself. If you do love the flavor of berry in your tea, you will love this one and it is mild and pleasant to drink all day long.<br /><br />The Super Anti-Oxidant variety of tea tastes good except for the licorice. The licorice is okay in the bedtime and calming teas, but does not taste right in green tea. Other then the licorice it does have a very good lemon flavor that is soothing and mild. The Slim Life tea is also very good but it does have a blueberry flavor in it, but it is worlds better then the Fasting tea, which tastes the worst of all the Yogi teas. I just love the Yogi tea positive messages don\\'t you? At first I just bought these teas for the messages then I learned to love the tea as well! Rejuvenation is my favorite green tea and Peach Detox and Redbush Chai are my favorite flavored teas and make exceptionally good iced tea as well! The flavors, however, are very close and it took me quite a while to figure out which green tea I preferred the best. This one is good if you like licorice in your green tea that is.<br /><br />Wise quotes from Yogi Tea by Yogi Bhajan<br /><br />\"The universe is the stage on which you dance, guided by your heart.\"<br /><br />\"The purpose of life is to enjoy every moment.\"<br /><br />\"Delight the world with compassion, kindness and grace.\"<br /><br />\"Laugh because that is your purpose in life.\"<br /><br />Happiness is every human beings birthright.\"<br /><br />\"Be happy so long as breath is in you.\"<br /><br />\"Real happiness lies in that which never comes nor goes, but simply is.\"<br /><br />\"Travel light, live light, spread the light, be the light.\"<br /><br />\"Your greatness is not what you have, it\\'s what you give.\"<br /><br />\"Practice kindness, mercy and forgiveness.\"<br /><br />\"Bliss cannot be disturbed by gain or loss.\"<br /><br />\"Compassion has no limit. Kindness has no enemy.\"<br /><br />\"There is no love without compassion.\"<br /><br />\"Appreciate yourself and honor your soul.\" \"Love your soul.\"<br /><br />\"Grace brings trust, appreciation, love and compassion.\"<br /><br />\"Be proud of who you are.\"<br /><br />\"There is nothing more precious than the self.\"<br /><br />\"Love is where compassion prevails and kindness rules.\"<br /><br />\"An attitude of gratitude brings opportunities.\"<br /><br />\"Recognize that the other is you.\"<br /><br />\"Life is a flow of love; your participation is requested.\"<br /><br />\"Where there is love there is no question.\"<br /><br />\"Your greatest strength is love.\"<br /><br />\"The best way to live is to be, simply be.\"<br /><br />\"When you know that all is light, you are enlightened.\"<br /><br />\"Your head must bow to your heart.\"<br /><br />\"Fall in love, stay in love, and it will decide everything.\"<br /><br />\"All that is needed is surrender and gratitude.\"<br /><br />\"To be calm is the highest achievement of the self.\"<br /><br />\"May this day bring you peace, tranquility and harmony.\"<br /><br />\"Old age needs wisdom and grace.\"<br /><br />\"Understanding is found through compassion.\"<br /><br />\"Love, compassion and kindness are anchors in life.\"<br /><br />\"Inspiring others towards happiness brings you happiness.\"<br /><br />\"Gratitude is the open door to abundance.\"<br /><br />\"Let love elevate your self to excellence.\"<br /><br />\"Uplift everybody and uplift yourself.\"<br /><br />\"The art of happiness is to serve.\"<br /><br />\"The body is a temple. Take care of it.\"<br /><br />\"Truth is everlasting.\"<br /><br />\"To learn, read. To know, write. To master, teach.\"']\n"
     ]
    }
   ],
   "source": [
    "# Now get the most positive and most negative messages\n",
    "df = pd.read_csv('reviews.csv')\n",
    "\n",
    "# Apply the function to the 'tokens' column of the DataFrame\n",
    "df['sentiment'] = df['Text'].apply(get_sentiment)\n",
    "\n",
    "\n",
    "print(\"Most Negative\")\n",
    "print(list(df.sort_values(['sentiment'],ascending=True)['Text'][:3]))\n",
    "\n",
    "print('\\n Most positive')\n",
    "print(list(df.sort_values(['sentiment'],ascending=False)['Text'][:3]))\n"
   ]
  },
  {
   "cell_type": "markdown",
   "metadata": {},
   "source": [
    "# Topic Modeling with LDA"
   ]
  },
  {
   "cell_type": "code",
   "execution_count": 16,
   "metadata": {},
   "outputs": [
    {
     "name": "stdout",
     "output_type": "stream",
     "text": [
      "(0, '0.037*\"oil\" + 0.037*\"protein\" + 0.034*\"sauce\" + 0.023*\"coconut\" + 0.021*\"chicken\" + 0.017*\"meal\" + 0.016*\"powder\" + 0.015*\"heat\" + 0.014*\"rice\" + 0.014*\"cook\"')\n",
      "(1, '0.080*\"salt\" + 0.067*\"far\" + 0.060*\"worth\" + 0.059*\"received\" + 0.040*\"absolutely\" + 0.035*\"went\" + 0.023*\"vitamin\" + 0.020*\"puppy\" + 0.019*\"chili\" + 0.019*\"sodium\"')\n",
      "(2, '0.093*\"coffee\" + 0.070*\"tea\" + 0.035*\"drink\" + 0.024*\"water\" + 0.021*\"bean\" + 0.020*\"strong\" + 0.015*\"green\" + 0.014*\"blend\" + 0.013*\"morning\" + 0.012*\"dark\"')\n",
      "(3, '0.028*\"one\" + 0.020*\"get\" + 0.019*\"would\" + 0.015*\"time\" + 0.014*\"dont\" + 0.014*\"like\" + 0.013*\"much\" + 0.013*\"use\" + 0.011*\"try\" + 0.011*\"im\"')\n",
      "(4, '0.050*\"taste\" + 0.048*\"good\" + 0.040*\"great\" + 0.040*\"flavor\" + 0.040*\"like\" + 0.038*\"love\" + 0.016*\"make\" + 0.014*\"cooky\" + 0.013*\"best\" + 0.013*\"really\"')\n",
      "(5, '0.046*\"day\" + 0.038*\"year\" + 0.024*\"month\" + 0.022*\"last\" + 0.022*\"long\" + 0.021*\"happy\" + 0.019*\"another\" + 0.018*\"ball\" + 0.017*\"problem\" + 0.017*\"week\"')\n",
      "(6, '0.082*\"chocolate\" + 0.073*\"store\" + 0.054*\"cookie\" + 0.052*\"milk\" + 0.048*\"snack\" + 0.036*\"free\" + 0.031*\"local\" + 0.026*\"cocoa\" + 0.024*\"grocery\" + 0.024*\"theyre\"')\n",
      "(7, '0.083*\"butter\" + 0.076*\"peanut\" + 0.053*\"bar\" + 0.049*\"oat\" + 0.035*\"almond\" + 0.032*\"nut\" + 0.031*\"quaker\" + 0.028*\"chewy\" + 0.026*\"mouth\" + 0.023*\"soy\"')\n",
      "(8, '0.044*\"product\" + 0.020*\"buy\" + 0.020*\"price\" + 0.019*\"bag\" + 0.019*\"amazon\" + 0.017*\"find\" + 0.017*\"box\" + 0.015*\"cup\" + 0.015*\"well\" + 0.015*\"even\"')\n",
      "(9, '0.122*\"food\" + 0.099*\"treat\" + 0.089*\"dog\" + 0.042*\"cat\" + 0.019*\"dry\" + 0.016*\"eat\" + 0.012*\"old\" + 0.010*\"love\" + 0.009*\"picky\" + 0.009*\"everlasting\"')\n",
      "Topic #1: oil protein sauce coconut chicken meal powder heat rice cook\n",
      "Topic #2: salt far worth received absolutely went vitamin puppy chili sodium\n",
      "Topic #3: coffee tea drink water bean strong green blend morning dark\n",
      "Topic #4: one get would time dont like much use try im\n",
      "Topic #5: taste good great flavor like love make cooky best really\n",
      "Topic #6: day year month last long happy another ball problem week\n",
      "Topic #7: chocolate store cookie milk snack free local cocoa grocery theyre\n",
      "Topic #8: butter peanut bar oat almond nut quaker chewy mouth soy\n",
      "Topic #9: product buy price bag amazon find box cup well even\n",
      "Topic #10: food treat dog cat dry eat old love picky everlasting\n"
     ]
    }
   ],
   "source": [
    "import pandas as pd\n",
    "from gensim import corpora, models\n",
    "import gensim\n",
    "\n",
    "# Apply all preprocessing functions\n",
    "df['tokens'] = df['Text'].apply(clean_text).apply(case_normalization).apply(tokenization).apply(remove_stopwords).apply(lemmatize)\n",
    "\n",
    "# Create a dictionary and corpus needed for Topic Modeling\n",
    "dictionary = corpora.Dictionary(df['tokens']) \n",
    "corpus = [dictionary.doc2bow(text) for text in df['tokens']] \n",
    "\n",
    "# LDA model\n",
    "lda_model = gensim.models.ldamodel.LdaModel(corpus=corpus,\n",
    "                                           id2word=dictionary,\n",
    "                                           num_topics=10, \n",
    "                                           random_state=100,\n",
    "                                           update_every=1,\n",
    "                                           chunksize=100,\n",
    "                                           passes=10,\n",
    "                                           alpha='auto',\n",
    "                                           per_word_topics=True)\n",
    "\n",
    "# Print the topics found by the LDA model\n",
    "topics = lda_model.print_topics(num_words=10)\n",
    "for topic in topics:\n",
    "    print(topic)\n",
    "    \n",
    "for topic_num, topic in topics:\n",
    "    # Parse the topic output to show only words\n",
    "    print(\"Topic #{}:\".format(topic_num + 1) + \" \" + \"\".join([word.split(\"*\")[1].replace('\"', '') for word in topic.split(\"+\")]))\n",
    "    "
   ]
  }
 ],
 "metadata": {
  "kernelspec": {
   "display_name": "base",
   "language": "python",
   "name": "python3"
  },
  "language_info": {
   "codemirror_mode": {
    "name": "ipython",
    "version": 3
   },
   "file_extension": ".py",
   "mimetype": "text/x-python",
   "name": "python",
   "nbconvert_exporter": "python",
   "pygments_lexer": "ipython3",
   "version": "3.11.5"
  }
 },
 "nbformat": 4,
 "nbformat_minor": 2
}
