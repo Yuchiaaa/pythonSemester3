{
 "cells": [
  {
   "cell_type": "markdown",
   "metadata": {},
   "source": [
    "# Identifying Fake News\n",
    "\n",
    "\n",
    "The Fake News Dataset is an English-language dataset containing just over 45,000 unique news articles. These articles are classified as true (1) or false (0)."
   ]
  },
  {
   "cell_type": "code",
   "execution_count": 9,
   "metadata": {},
   "outputs": [
    {
     "name": "stdout",
     "output_type": "stream",
     "text": [
      "              precision    recall  f1-score   support\n",
      "\n",
      "           0       0.96      0.95      0.95      1133\n",
      "           1       0.96      0.96      0.96      1303\n",
      "\n",
      "    accuracy                           0.96      2436\n",
      "   macro avg       0.96      0.96      0.96      2436\n",
      "weighted avg       0.96      0.96      0.96      2436\n",
      "\n",
      "Accuracy: 0.958128078817734\n"
     ]
    }
   ],
   "source": [
    "#Method: Random Forrest\n",
    "import pandas as pd\n",
    "from sklearn.model_selection import train_test_split\n",
    "from sklearn.feature_extraction.text import CountVectorizer\n",
    "from sklearn.ensemble import RandomForestClassifier\n",
    "from sklearn.metrics import classification_report, accuracy_score\n",
    "\n",
    "\n",
    "# Data preparation\n",
    "df = pd.read_csv('fake_news.csv', delimiter=';')\n",
    "\n",
    "# Split the dataset into training and testing sets\n",
    "# The text is what we use to try to predict the device. \n",
    "X_train, X_test, y_train, y_test = train_test_split(df['text'], df['label'], test_size=0.3, random_state=42)\n",
    "\n",
    "# Vectorize the text messages into a bag-of-words model\n",
    "vectorizer = CountVectorizer(stop_words='english') # Drop stopwords in English\n",
    "X_train_vectorized = vectorizer.fit_transform(X_train)\n",
    "X_test_vectorized = vectorizer.transform(X_test)\n",
    "\n",
    "# Use a machine learning classifier, in this case, a Random Forest\n",
    "classifier = RandomForestClassifier(n_estimators=100, random_state=42)\n",
    "classifier.fit(X_train_vectorized, y_train)\n",
    "\n",
    "# Predict the device used for the test set\n",
    "predictions = classifier.predict(X_test_vectorized)\n",
    "\n",
    "\n",
    "# Evaluate the classifier\n",
    "print(classification_report(y_test, predictions))\n",
    "print(\"Accuracy:\", accuracy_score(y_test, predictions))"
   ]
  }
 ],
 "metadata": {
  "kernelspec": {
   "display_name": "base",
   "language": "python",
   "name": "python3"
  },
  "language_info": {
   "codemirror_mode": {
    "name": "ipython",
    "version": 3
   },
   "file_extension": ".py",
   "mimetype": "text/x-python",
   "name": "python",
   "nbconvert_exporter": "python",
   "pygments_lexer": "ipython3",
   "version": "3.11.5"
  }
 },
 "nbformat": 4,
 "nbformat_minor": 2
}
